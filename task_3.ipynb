{
 "cells": [
  {
   "cell_type": "code",
   "execution_count": 116,
   "metadata": {},
   "outputs": [
    {
     "data": {
      "text/plain": [
       "WindowsPath('Задание/Задание/txt.txt')"
      ]
     },
     "execution_count": 116,
     "metadata": {},
     "output_type": "execute_result"
    }
   ],
   "source": [
    "import pandas as pd\n",
    "%matplotlib inline\n",
    "from pathlib import Path\n",
    "from zipfile import ZipFile\n",
    "file_list = [i for i in Path('./Задание/Задание/').iterdir()]\n",
    "file_list[1]"
   ]
  },
  {
   "cell_type": "code",
   "execution_count": 117,
   "metadata": {},
   "outputs": [],
   "source": [
    "with open(file_list[1],'r',encoding='utf-8') as f:\n",
    "    text = [\n",
    "        row.\n",
    "        strip()\n",
    "        .replace(');','')\n",
    "        .replace('/','')\n",
    "        .replace(\"'\",'') for row in f]"
   ]
  },
  {
   "cell_type": "code",
   "execution_count": 118,
   "metadata": {},
   "outputs": [],
   "source": [
    "data = [] \n",
    "email_pattern = r'([\\w\\.-]+@[\\w\\.-]+)'\n",
    "phone_numb = r'(\\d{9,})'\n",
    "\n",
    "\n",
    "for row in text:\n",
    "    mails = re.findall(email_pattern,row)\n",
    "    phones = re.findall(phone_numb,row)\n",
    "    for mail in mails:\n",
    "        \n",
    "        for phone in phones: \n",
    "            data.append([mail,phone,row])   \n"
   ]
  },
  {
   "cell_type": "code",
   "execution_count": 119,
   "metadata": {},
   "outputs": [],
   "source": [
    "\n",
    "\n"
   ]
  },
  {
   "cell_type": "code",
   "execution_count": 142,
   "metadata": {},
   "outputs": [],
   "source": [
    "from validate_email_address import validate_email\n",
    "def validate(email):\n",
    "    try:\n",
    "        return validate_email(email)\n",
    "    except:\n",
    "        return False"
   ]
  },
  {
   "cell_type": "code",
   "execution_count": 121,
   "metadata": {},
   "outputs": [],
   "source": [
    "\n",
    "df = pd.DataFrame(data,columns=['Email','Phone','row'])"
   ]
  },
  {
   "cell_type": "code",
   "execution_count": 159,
   "metadata": {},
   "outputs": [
    {
     "name": "stdout",
     "output_type": "stream",
     "text": [
      "70923\n"
     ]
    },
    {
     "data": {
      "text/html": [
       "<div>\n",
       "<style scoped>\n",
       "    .dataframe tbody tr th:only-of-type {\n",
       "        vertical-align: middle;\n",
       "    }\n",
       "\n",
       "    .dataframe tbody tr th {\n",
       "        vertical-align: top;\n",
       "    }\n",
       "\n",
       "    .dataframe thead th {\n",
       "        text-align: right;\n",
       "    }\n",
       "</style>\n",
       "<table border=\"1\" class=\"dataframe\">\n",
       "  <thead>\n",
       "    <tr style=\"text-align: right;\">\n",
       "      <th></th>\n",
       "      <th>Email</th>\n",
       "      <th>Phone</th>\n",
       "      <th>row</th>\n",
       "      <th>valid_mail</th>\n",
       "      <th>mail_status</th>\n",
       "    </tr>\n",
       "  </thead>\n",
       "  <tbody>\n",
       "    <tr>\n",
       "      <th>60073</th>\n",
       "      <td>ksu_92.9@mail.ru</td>\n",
       "      <td>79033576550</td>\n",
       "      <td>Кceня &amp;#9829; STARocтa&amp;#9829;, ksu_92.9@mail.r...</td>\n",
       "      <td>ksu92.9@mail.ru</td>\n",
       "      <td>True</td>\n",
       "    </tr>\n",
       "    <tr>\n",
       "      <th>36446</th>\n",
       "      <td>roslevich1@rambler.ru</td>\n",
       "      <td>79250015200</td>\n",
       "      <td>Димкa frank dux, roslevich1@rambler.ru, 792500...</td>\n",
       "      <td>roslevich1@rambler.ru</td>\n",
       "      <td>True</td>\n",
       "    </tr>\n",
       "    <tr>\n",
       "      <th>59655</th>\n",
       "      <td>umfoloz@mail.ru</td>\n",
       "      <td>79276610480</td>\n",
       "      <td>Дмитрий, umfoloz@mail.ru, 79276610480</td>\n",
       "      <td>umfoloz@mail.ru</td>\n",
       "      <td>True</td>\n",
       "    </tr>\n",
       "    <tr>\n",
       "      <th>21005</th>\n",
       "      <td>kytaka-zy@mail.ru</td>\n",
       "      <td>79264591930</td>\n",
       "      <td>Рoмaн &amp;#732;”*°•.&amp;#1769;&amp;#831;&amp;#839;V&amp;#831;&amp;#8...</td>\n",
       "      <td>kytakazy@mail.ru</td>\n",
       "      <td>True</td>\n",
       "    </tr>\n",
       "    <tr>\n",
       "      <th>1903</th>\n",
       "      <td>sever333@yandex.ru</td>\n",
       "      <td>79277279390</td>\n",
       "      <td>aлeкceй, sever333@yandex.ru, 79277279390</td>\n",
       "      <td>sever333@yandex.ru</td>\n",
       "      <td>True</td>\n",
       "    </tr>\n",
       "  </tbody>\n",
       "</table>\n",
       "</div>"
      ],
      "text/plain": [
       "                       Email        Phone  \\\n",
       "60073       ksu_92.9@mail.ru  79033576550   \n",
       "36446  roslevich1@rambler.ru  79250015200   \n",
       "59655        umfoloz@mail.ru  79276610480   \n",
       "21005      kytaka-zy@mail.ru  79264591930   \n",
       "1903      sever333@yandex.ru  79277279390   \n",
       "\n",
       "                                                     row  \\\n",
       "60073  Кceня &#9829; STARocтa&#9829;, ksu_92.9@mail.r...   \n",
       "36446  Димкa frank dux, roslevich1@rambler.ru, 792500...   \n",
       "59655              Дмитрий, umfoloz@mail.ru, 79276610480   \n",
       "21005  Рoмaн &#732;”*°•.&#1769;&#831;&#839;V&#831;&#8...   \n",
       "1903            aлeкceй, sever333@yandex.ru, 79277279390   \n",
       "\n",
       "                  valid_mail  mail_status  \n",
       "60073        ksu92.9@mail.ru         True  \n",
       "36446  roslevich1@rambler.ru         True  \n",
       "59655        umfoloz@mail.ru         True  \n",
       "21005       kytakazy@mail.ru         True  \n",
       "1903      sever333@yandex.ru         True  "
      ]
     },
     "execution_count": 159,
     "metadata": {},
     "output_type": "execute_result"
    }
   ],
   "source": [
    "\n",
    "def correct_email(email):\n",
    "    if email != None:\n",
    "        \n",
    "        correct_pattern = re.compile(r'(\\b[\\w.-]+?@\\w+?\\.\\w+?\\b)', re.IGNORECASE)\n",
    "        \n",
    "        \n",
    "        if correct_pattern.match(email):\n",
    "            return email\n",
    "        elif re.match(r'^\\S+@.*@mail$', email, re.IGNORECASE):\n",
    "            return email.replace(\"@mail\", \"@mail.ru\")\n",
    "        elif re.match(r'^\\S+@.*@gmail$', email, re.IGNORECASE):\n",
    "            return email.replace(\"@gmail\", \"@gmail.com\")\n",
    "        elif re.match(r'^\\S+@.*@rambler$', email, re.IGNORECASE):\n",
    "            return email.replace(\"@rambler\", \"@rambler.ru\")\n",
    "        else:\n",
    "            return None\n",
    "    return None\n",
    "mail_pattern = r'(\\b[A-Za-z0-9._%+-]+@[A-Za-z0-9.-]+\\.[A-Za-z]{2,7}\\b)'\n",
    "exclude = r'-|_'\n",
    "\n",
    "\n",
    "df['valid_mail'] = df['Email'].str.extract(mail_pattern,expand=False) \\\n",
    "        .fillna(df['Email'].apply(correct_email).str.strip()) \\\n",
    "        .replace(exclude, '',regex=True) \\\n",
    "        .replace(r'\\.+@', '@',regex=True) \\\n",
    "        .replace(r'\\.{2,}', '.',regex=True) \\\n",
    "        .replace(r'^\\.', '',regex=True) \\\n",
    "            .str.lower()  \n",
    "\n",
    "print(df.shape[0])\n",
    "df.sample(5)\n"
   ]
  },
  {
   "cell_type": "code",
   "execution_count": 143,
   "metadata": {},
   "outputs": [
    {
     "name": "stdout",
     "output_type": "stream",
     "text": [
      "(1, 5)\n"
     ]
    },
    {
     "data": {
      "text/html": [
       "<div>\n",
       "<style scoped>\n",
       "    .dataframe tbody tr th:only-of-type {\n",
       "        vertical-align: middle;\n",
       "    }\n",
       "\n",
       "    .dataframe tbody tr th {\n",
       "        vertical-align: top;\n",
       "    }\n",
       "\n",
       "    .dataframe thead th {\n",
       "        text-align: right;\n",
       "    }\n",
       "</style>\n",
       "<table border=\"1\" class=\"dataframe\">\n",
       "  <thead>\n",
       "    <tr style=\"text-align: right;\">\n",
       "      <th></th>\n",
       "      <th>Email</th>\n",
       "      <th>Phone</th>\n",
       "      <th>row</th>\n",
       "      <th>valid_mail</th>\n",
       "      <th>mail_status</th>\n",
       "    </tr>\n",
       "  </thead>\n",
       "  <tbody>\n",
       "    <tr>\n",
       "      <th>2155</th>\n",
       "      <td>_-_._-_._-@mail.ru</td>\n",
       "      <td>79518966950</td>\n",
       "      <td>Люция cтaрocтинa, _-_._-_._-@mail.ru, 79518966950</td>\n",
       "      <td>@mail.ru</td>\n",
       "      <td>False</td>\n",
       "    </tr>\n",
       "  </tbody>\n",
       "</table>\n",
       "</div>"
      ],
      "text/plain": [
       "                   Email        Phone  \\\n",
       "2155  _-_._-_._-@mail.ru  79518966950   \n",
       "\n",
       "                                                    row valid_mail  \\\n",
       "2155  Люция cтaрocтинa, _-_._-_._-@mail.ru, 79518966950   @mail.ru   \n",
       "\n",
       "      mail_status  \n",
       "2155        False  "
      ]
     },
     "execution_count": 143,
     "metadata": {},
     "output_type": "execute_result"
    }
   ],
   "source": [
    "def validate(email):\n",
    "    try:\n",
    "        return validate_email(email)\n",
    "    except:\n",
    "        return False\n",
    "df['mail_status'] = df['valid_mail'].apply(validate)\n",
    "invalid_emails = df[df['mail_status'] == False]\n",
    "print(invalid_emails.shape)\n",
    "invalid_emails.head(60)\n"
   ]
  },
  {
   "cell_type": "code",
   "execution_count": 155,
   "metadata": {},
   "outputs": [
    {
     "data": {
      "text/html": [
       "<div>\n",
       "<style scoped>\n",
       "    .dataframe tbody tr th:only-of-type {\n",
       "        vertical-align: middle;\n",
       "    }\n",
       "\n",
       "    .dataframe tbody tr th {\n",
       "        vertical-align: top;\n",
       "    }\n",
       "\n",
       "    .dataframe thead th {\n",
       "        text-align: right;\n",
       "    }\n",
       "</style>\n",
       "<table border=\"1\" class=\"dataframe\">\n",
       "  <thead>\n",
       "    <tr style=\"text-align: right;\">\n",
       "      <th></th>\n",
       "      <th>Email</th>\n",
       "      <th>Phone</th>\n",
       "      <th>row</th>\n",
       "      <th>valid_mail</th>\n",
       "      <th>mail_status</th>\n",
       "    </tr>\n",
       "  </thead>\n",
       "  <tbody>\n",
       "    <tr>\n",
       "      <th>37360</th>\n",
       "      <td>Gron197@mail.ru</td>\n",
       "      <td>79028646750</td>\n",
       "      <td>Юрий &amp;lt;&amp;lt;GRON&amp;gt;&amp;gt;, Gron197@mail.ru, 79...</td>\n",
       "      <td>gron197@mail.ru</td>\n",
       "      <td>True</td>\n",
       "    </tr>\n",
       "  </tbody>\n",
       "</table>\n",
       "</div>"
      ],
      "text/plain": [
       "                 Email        Phone  \\\n",
       "37360  Gron197@mail.ru  79028646750   \n",
       "\n",
       "                                                     row       valid_mail  \\\n",
       "37360  Юрий &lt;&lt;GRON&gt;&gt;, Gron197@mail.ru, 79...  gron197@mail.ru   \n",
       "\n",
       "       mail_status  \n",
       "37360         True  "
      ]
     },
     "execution_count": 155,
     "metadata": {},
     "output_type": "execute_result"
    }
   ],
   "source": [
    "df.query('valid_mail == \"gron197@mail.ru\"')"
   ]
  },
  {
   "cell_type": "code",
   "execution_count": 160,
   "metadata": {},
   "outputs": [
    {
     "data": {
      "text/plain": [
       "1.0"
      ]
     },
     "execution_count": 160,
     "metadata": {},
     "output_type": "execute_result"
    }
   ],
   "source": [
    "df.shape[0] / len(data)"
   ]
  },
  {
   "cell_type": "code",
   "execution_count": 161,
   "metadata": {},
   "outputs": [],
   "source": [
    "df_valid = df[['valid_mail','Phone','row']].rename(columns={\n",
    "    'valid_mail':'mail',\n",
    "    'Phone':'phone'})"
   ]
  },
  {
   "cell_type": "code",
   "execution_count": 162,
   "metadata": {},
   "outputs": [],
   "source": [
    "df_valid.to_csv('valid_acccounts.csv')"
   ]
  }
 ],
 "metadata": {
  "kernelspec": {
   "display_name": ".venv",
   "language": "python",
   "name": "python3"
  },
  "language_info": {
   "codemirror_mode": {
    "name": "ipython",
    "version": 3
   },
   "file_extension": ".py",
   "mimetype": "text/x-python",
   "name": "python",
   "nbconvert_exporter": "python",
   "pygments_lexer": "ipython3",
   "version": "3.10.5"
  },
  "orig_nbformat": 4
 },
 "nbformat": 4,
 "nbformat_minor": 2
}
