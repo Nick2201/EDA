{
 "cells": [
  {
   "cell_type": "code",
   "execution_count": 35,
   "metadata": {},
   "outputs": [],
   "source": [
    "import pandas as pd\n",
    "%matplotlib inline\n",
    "from pathlib import Path\n",
    "from zipfile import ZipFile\n",
    "import xlrd\n",
    "import openpyxl"
   ]
  },
  {
   "cell_type": "code",
   "execution_count": 30,
   "metadata": {},
   "outputs": [
    {
     "data": {
      "text/plain": [
       "[WindowsPath('Задание/Задание/json.json'),\n",
       " WindowsPath('Задание/Задание/txt.txt'),\n",
       " WindowsPath('Задание/Задание/Задание 1.xlsx'),\n",
       " WindowsPath('Задание/Задание/Задание 2 и 3.txt'),\n",
       " WindowsPath('Задание/Задание/Задание 4 (не обязательное).txt')]"
      ]
     },
     "execution_count": 30,
     "metadata": {},
     "output_type": "execute_result"
    }
   ],
   "source": [
    "file_list = [i for i in Path('./Задание/Задание/').iterdir()]\n",
    "file_list\n",
    "\n",
    "# raw_df = pd.read_excel(file_list[3])\n"
   ]
  },
  {
   "cell_type": "code",
   "execution_count": 51,
   "metadata": {},
   "outputs": [],
   "source": [
    "dfs = pd.read_excel(\n",
    "    file_list[2],\n",
    "    engine='openpyxl',\n",
    "    sheet_name=[1, 2]  # Replace 0 and 1 with the actual sheet indices you want to read\n",
    ")\n",
    "\n",
    "df_doctors = dfs[1]  # Assign the first DataFrame to df_doctors\n",
    "df_report = dfs[2]   "
   ]
  },
  {
   "cell_type": "code",
   "execution_count": 155,
   "metadata": {},
   "outputs": [
    {
     "data": {
      "text/plain": [
       "0         Болен\\n\n",
       "1         здоров \n",
       "2         здоров \n",
       "3         Болен\\n\n",
       "4           болен\n",
       "           ...   \n",
       "33472       болен\n",
       "33473     здоров \n",
       "33474       Болен\n",
       "33475     здоров \n",
       "33476      Здоров\n",
       "Name: Состояние, Length: 33477, dtype: object"
      ]
     },
     "execution_count": 155,
     "metadata": {},
     "output_type": "execute_result"
    }
   ],
   "source": [
    "(df_doctors.merge(\n",
    "        df_doctors['ФИО'].str.extract(\n",
    "        r'(?P<surname>[А-я]+)\\s+(?P<name>[А-я]+)\\s+(?P<patronymic>[А-я]+)')\n",
    "        .applymap(lambda x: x[0].upper() + x[1:].lower() if isinstance(x, str) else ''),\n",
    "    left_index=True,right_index=True)\n",
    "    ['Состояние']\n",
    ")"
   ]
  },
  {
   "cell_type": "code",
   "execution_count": 154,
   "metadata": {},
   "outputs": [
    {
     "data": {
      "text/plain": [
       "Состояние\n",
       "болен     16809\n",
       "здоров    16668\n",
       "Name: count, dtype: int64"
      ]
     },
     "execution_count": 154,
     "metadata": {},
     "output_type": "execute_result"
    }
   ],
   "source": [
    "df_doctors['Состояние'].value_counts() # chel statuses\n",
    "# def status_normalization():\n",
    "\n",
    "(\n",
    "    df_doctors['Состояние']\n",
    "        .str.extract(r'([А-я]+)',expand=False)\n",
    "        .str.lower()\n",
    "        .value_counts()\n",
    "        )\n",
    "\n"
   ]
  },
  {
   "cell_type": "code",
   "execution_count": 88,
   "metadata": {},
   "outputs": [
    {
     "data": {
      "text/html": [
       "<div>\n",
       "<style scoped>\n",
       "    .dataframe tbody tr th:only-of-type {\n",
       "        vertical-align: middle;\n",
       "    }\n",
       "\n",
       "    .dataframe tbody tr th {\n",
       "        vertical-align: top;\n",
       "    }\n",
       "\n",
       "    .dataframe thead th {\n",
       "        text-align: right;\n",
       "    }\n",
       "</style>\n",
       "<table border=\"1\" class=\"dataframe\">\n",
       "  <thead>\n",
       "    <tr style=\"text-align: right;\">\n",
       "      <th></th>\n",
       "      <th>ФИО</th>\n",
       "      <th>ДР</th>\n",
       "      <th>Дата Осмотра</th>\n",
       "      <th>Состояние</th>\n",
       "    </tr>\n",
       "  </thead>\n",
       "  <tbody>\n",
       "    <tr>\n",
       "      <th>52</th>\n",
       "      <td>Константинова  Снежана Александровна</td>\n",
       "      <td>1992-10-04 00:00:00</td>\n",
       "      <td>2020-10-12</td>\n",
       "      <td>Здоров</td>\n",
       "    </tr>\n",
       "    <tr>\n",
       "      <th>73</th>\n",
       "      <td>Светличная  Зоя Юрьевна</td>\n",
       "      <td>1948-06-19 00:00:00</td>\n",
       "      <td>2020-10-12</td>\n",
       "      <td>Здоров</td>\n",
       "    </tr>\n",
       "    <tr>\n",
       "      <th>33400</th>\n",
       "      <td>Ермакова Рада  Анатольевна</td>\n",
       "      <td>1967-09-22 00:00:00</td>\n",
       "      <td>2020-10-12</td>\n",
       "      <td>Здоров</td>\n",
       "    </tr>\n",
       "  </tbody>\n",
       "</table>\n",
       "</div>"
      ],
      "text/plain": [
       "                                        ФИО                   ДР Дата Осмотра  \\\n",
       "52     Константинова  Снежана Александровна  1992-10-04 00:00:00   2020-10-12   \n",
       "73                  Светличная  Зоя Юрьевна  1948-06-19 00:00:00   2020-10-12   \n",
       "33400            Ермакова Рада  Анатольевна  1967-09-22 00:00:00   2020-10-12   \n",
       "\n",
       "      Состояние  \n",
       "52       Здоров  \n",
       "73       Здоров  \n",
       "33400    Здоров  "
      ]
     },
     "execution_count": 88,
     "metadata": {},
     "output_type": "execute_result"
    }
   ],
   "source": [
    "df_doctors.loc[[52,73,33400],:]"
   ]
  }
 ],
 "metadata": {
  "kernelspec": {
   "display_name": ".venv",
   "language": "python",
   "name": "python3"
  },
  "language_info": {
   "codemirror_mode": {
    "name": "ipython",
    "version": 3
   },
   "file_extension": ".py",
   "mimetype": "text/x-python",
   "name": "python",
   "nbconvert_exporter": "python",
   "pygments_lexer": "ipython3",
   "version": "3.10.5"
  },
  "orig_nbformat": 4
 },
 "nbformat": 4,
 "nbformat_minor": 2
}
